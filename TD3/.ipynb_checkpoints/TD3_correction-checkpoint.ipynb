{
 "cells": [
  {
   "cell_type": "markdown",
   "metadata": {},
   "source": [
    "# TD 3 | Étude de la marge EGT d'un turboréacteur\n",
    "\n",
    "---\n",
    "\n",
    "Objectifs du TD :\n",
    "\n",
    "* pratiquer sur un premier use case concret d'analyse de données de moteurs d'avion\n",
    "* fonctions glissantes pandas (_rolling_)\n",
    "* régression linéaire\n",
    "\n",
    "---"
   ]
  },
  {
   "cell_type": "markdown",
   "metadata": {},
   "source": [
    "La table fournie contient les données moteurs disposant de l'information \"marge EGT\" (egthdm) issue\n",
    "des rapports ACARS. Il s'agit donc uniquement de rapports extraits au décollage (TAKEOFF). On a\n",
    "récupéré l'ensemble des rapports des moteurs livrés depuis avril 2016."
   ]
  },
  {
   "cell_type": "markdown",
   "metadata": {},
   "source": [
    "## 1. Chargement et nettoyage des données\n",
    "\n",
    "#### 1.1. Chargez les données ACARS à l'aide de la méthode pandas `read_excel`. Explorez les propriétés générales du jeu de données.\n",
    "\n",
    "Fichier de données : `./data/accars_b.xlsx`."
   ]
  },
  {
   "cell_type": "code",
   "execution_count": null,
   "metadata": {},
   "outputs": [],
   "source": [
    "!git clone https://github.com/MadaneA/MACS3-Statistiques-Descriptives-TDs.git"
   ]
  },
  {
   "cell_type": "code",
   "execution_count": null,
   "metadata": {},
   "outputs": [],
   "source": [
    "import os\n",
    "os.chdir('MACS3-Statistiques-Descriptives-TDs')"
   ]
  },
  {
   "cell_type": "code",
   "execution_count": null,
   "metadata": {},
   "outputs": [],
   "source": [
    "acars = pd.read_excel('./data/accars_b.xlsx')\n",
    "acars.head()"
   ]
  },
  {
   "cell_type": "code",
   "execution_count": null,
   "metadata": {},
   "outputs": [],
   "source": [
    "acars.shape"
   ]
  },
  {
   "cell_type": "code",
   "execution_count": null,
   "metadata": {},
   "outputs": [],
   "source": [
    "import matplotlib.pyplot as plt\n",
    "import numpy as np\n",
    "%matplotlib inline"
   ]
  },
  {
   "cell_type": "markdown",
   "metadata": {},
   "source": [
    "#### 1.2. Y a-t-il des valeurs manquantes ? Si oui, décrivez leur répartition et affichez le nombre de valeurs manquantes par colonne sous forme d'un bar plot."
   ]
  },
  {
   "cell_type": "code",
   "execution_count": null,
   "metadata": {},
   "outputs": [],
   "source": [
    "missing = acars.isna().mean()*100\n",
    "fig,ax = plt.subplots(figsize=(12,12))\n",
    "ax.barh(np.arange(missing.size), missing, tick_label=missing.index.tolist())"
   ]
  },
  {
   "cell_type": "markdown",
   "metadata": {},
   "source": [
    "#### 1.3. Ne gardez que les lignes où le nombre de cycles (variable `cycles`) et la marge EGT (variable `egthdm`) sont présentes."
   ]
  },
  {
   "cell_type": "code",
   "execution_count": null,
   "metadata": {},
   "outputs": [],
   "source": [
    "acars_clean = acars[~acars['egthdm'].isna() & ~acars['cycles'].isna()]\n",
    "# ~A & ~B = ~(A | B)\n",
    "acars_clean.shape"
   ]
  },
  {
   "cell_type": "markdown",
   "metadata": {},
   "source": [
    "#### 1.4. Affichez les différents types de moteurs (indice : utilisez la méthode `unique()`)."
   ]
  },
  {
   "cell_type": "code",
   "execution_count": null,
   "metadata": {},
   "outputs": [],
   "source": [
    "acars_clean['engine_type'].unique()"
   ]
  },
  {
   "cell_type": "markdown",
   "metadata": {},
   "source": [
    "#### 1.5. Sélectionnez uniquement les moteurs de type 10. Combien y a-t-il d'avions distincts ? Combien de vols par avion ? (attention : il y a 2 moteurs sur un avion)"
   ]
  },
  {
   "cell_type": "code",
   "execution_count": null,
   "metadata": {},
   "outputs": [],
   "source": [
    "type10 = acars_clean[acars_clean['engine_type'] == 10]\n",
    "type10.shape"
   ]
  },
  {
   "cell_type": "code",
   "execution_count": null,
   "metadata": {},
   "outputs": [],
   "source": [
    "type10['aircraft_number'].unique()"
   ]
  },
  {
   "cell_type": "code",
   "execution_count": null,
   "metadata": {},
   "outputs": [],
   "source": [
    "type10.groupby('aircraft_number').size()//2 # on peut aussi utiliser \"count()\", mais celle-ci s'applique à toutes les colonnes, et ne compte pas les NaN !"
   ]
  },
  {
   "cell_type": "markdown",
   "metadata": {},
   "source": [
    "## 2. Étude de la marge EGT de l'avion 190\n",
    "\n",
    "#### 2.1. Récupérez les variables `engine_number`, nombre de cycles (`cycles`) et marge EGT (`egthdm`) pour l'avion identifié par le numéro 190."
   ]
  },
  {
   "cell_type": "code",
   "execution_count": null,
   "metadata": {},
   "outputs": [],
   "source": [
    "ac190 = type10[type10['aircraft_number'] == 190][['engine_number', 'cycles', 'egthdm']]\n",
    "ac190.shape"
   ]
  },
  {
   "cell_type": "code",
   "execution_count": null,
   "metadata": {},
   "outputs": [],
   "source": [
    "ac190['engine_number'].unique()"
   ]
  },
  {
   "cell_type": "code",
   "execution_count": null,
   "metadata": {},
   "outputs": [],
   "source": [
    "ac190.head()"
   ]
  },
  {
   "cell_type": "markdown",
   "metadata": {},
   "source": [
    "#### 2.2. Affichez la courbe de l'évolution de la marge EGT au cours du temps pour les deux moteurs de l'avion, sur deux graphes séparés et en prenant soin d'ajouter des légendes."
   ]
  },
  {
   "cell_type": "code",
   "execution_count": null,
   "metadata": {},
   "outputs": [],
   "source": [
    "fig,ax = plt.subplots(1, 2, figsize=(20,8))\n",
    "moteur179 = ac190[ac190['engine_number'] == 179].sort_values('cycles')\n",
    "moteur180 = ac190[ac190['engine_number'] == 180].sort_values('cycles')\n",
    "ax[0].plot(moteur179['cycles'], moteur179['egthdm'], 'rx-', linewidth=0.5)\n",
    "ax[0].set_title('Moteur 179')\n",
    "ax[1].plot(moteur180['cycles'], moteur180['egthdm'], 'bx-', linewidth=0.5)\n",
    "ax[1].set_title('Moteur 180')\n",
    "for i in [0,1]:\n",
    "    ax[i].set_xlabel('Cycles')\n",
    "    ax[i].set_ylabel('Marge EGT')"
   ]
  },
  {
   "cell_type": "markdown",
   "metadata": {},
   "source": [
    "#### 2.3. Pour la suite, on ne s'intéresse qu'au moteur 179. Quel est le nombre de vols manquant dans les données ?"
   ]
  },
  {
   "cell_type": "code",
   "execution_count": null,
   "metadata": {},
   "outputs": [],
   "source": [
    "plt.plot(moteur179['cycles'], moteur179['cycles'].diff(1), '+')"
   ]
  },
  {
   "cell_type": "code",
   "execution_count": null,
   "metadata": {},
   "outputs": [],
   "source": [
    "sauts = moteur179['cycles'].diff() > 1\n",
    "(moteur179['cycles'].diff(1) - 1).where(sauts).sum()"
   ]
  },
  {
   "cell_type": "code",
   "execution_count": null,
   "metadata": {},
   "outputs": [],
   "source": [
    "moteur179.tail()"
   ]
  },
  {
   "cell_type": "markdown",
   "metadata": {},
   "source": [
    "#### 2.4. Nettoyage de la marge EGT\n",
    "\n",
    "On constate que sur un même cycle, il peut y avoir 2 valeurs de la variable `egthdm` mesurées. On ne souhaite garder que la plus grande des deux, et avoir une seule ligne par cycle, afin que l'on puisse utiliser le nombre de cycles comme index. Enfin, on veut compléter l'index pour les vols manquants, en remplissant les lignes par `NaN`. Pour cela, effectuez l'exercice suivant:\n",
    "\n",
    "1. Utilisez une aggrégation pour obtenir la plus grande valeur à chaque cycle et stockez le résultat dans une Series pandas appelée 'egt'.\n",
    "2. Ré-indexez le DataFrame pour avoir une ligne pour tout nombre de cycles (indice : passez par la méthode reindex)."
   ]
  },
  {
   "cell_type": "code",
   "execution_count": null,
   "metadata": {},
   "outputs": [],
   "source": [
    "egt = moteur179.groupby('cycles')['egthdm'].max()\n",
    "egt = egt.reindex(pd.RangeIndex(0, egt.index.max()+1), axis='index')"
   ]
  },
  {
   "cell_type": "code",
   "execution_count": null,
   "metadata": {},
   "outputs": [],
   "source": [
    "egt.tail()"
   ]
  },
  {
   "cell_type": "markdown",
   "metadata": {},
   "source": [
    "#### 2.5. On souhaite lisser les valeurs et se débarasser des outliers à l'aide d'une médiane glissante sur 15 cycles. Affichez sur un même graphe la marge EGT brute (points) et la marge lissée (ligne).\n",
    "http://pandas.pydata.org/pandas-docs/stable/generated/pandas.Series.rolling.html#pandas.Series.rolling\n",
    "\n",
    "Utilisez une fenêtre glissante de taille 15 cycles, avec un minimum de 3 observations non-nulles par fenêtre (paramètre `min_periods`)."
   ]
  },
  {
   "cell_type": "code",
   "execution_count": null,
   "metadata": {},
   "outputs": [],
   "source": [
    "egtm = egt.rolling(window=15, min_periods=3).median().dropna()\n",
    "plt.figure(figsize=(10,8))\n",
    "plt.plot(egt.index, egt, 'rx')\n",
    "plt.plot(egtm.index, egtm, '-', c='purple')\n",
    "plt.legend(['Marge EGT', 'Marge EGT (médiane sur 15 cycles)'])\n",
    "plt.title('Marge EGT et médiane glissante sur 15 cycles')"
   ]
  },
  {
   "cell_type": "markdown",
   "metadata": {},
   "source": [
    "#### 2.6. Nettoyage de la marge EGT lissée\n",
    "\n",
    "La marge EGT ne peut être que décroissante, sauf en cas de nettoyage moteur (waterwash) ou peut-être à cause d'éléments extérieurs, on va donc éviter de tenir compte des remontées de marge et ne prendre en considération que les points descendants. Cette estimation est pessimiste mais évite de prendre en compte ces facteurs extérieurs.\n",
    "\n",
    "1. Calculez une série ne contenant que les valeurs décroissantes de la amrge EGT lissée.\n",
    "2. Sur le graphique précédent, ajoutez ces points par-dessus la courbe."
   ]
  },
  {
   "cell_type": "code",
   "execution_count": null,
   "metadata": {},
   "outputs": [],
   "source": [
    "egtm_decreasing = egtm.rolling(window=egtm.size, min_periods=1).min().drop_duplicates()"
   ]
  },
  {
   "cell_type": "code",
   "execution_count": null,
   "metadata": {},
   "outputs": [],
   "source": [
    "plt.figure(figsize=(10,8))\n",
    "plt.plot(egt.index, egt, 'rx')\n",
    "plt.plot(egtm.index, egtm, '-', c='purple')\n",
    "plt.plot(egtm_decreasing.index, egtm_decreasing, 'o', c='g')\n",
    "plt.legend(['Marge EGT', 'Marge EGT (médiane sur 15 cycles)', 'Points conservés'])\n",
    "plt.title('Marge EGT et médiane glissante sur 15 cycles');"
   ]
  },
  {
   "cell_type": "markdown",
   "metadata": {},
   "source": [
    "#### 2.7. Estimation de la pente de la marge EGT\n",
    "\n",
    "La pente de la marge EGT est un indicateur très intéressant de l'usure du moteur. On l'estime par régression linéaire par rapport au nombre de cycles. Pour cela, on utilise les points conservés précédemment qui constituent une estimation pessimiste.\n",
    "\n",
    "Pour la régression linéaire, on utilisera le modèle `LinearRegression` de scikit-learn. Son utilisation est similaire aux autres modèles de scikit-learn :\n",
    "```python\n",
    "lr = LinearRegression()\n",
    "model = lr.fit(X, y)\n",
    "```\n",
    "\n",
    "1. Apprenez un modèle `LinearRegression` sur les données calculées précédemment. Affichez les coefficients et l'ordonnée à l'origine (_intercept_) du modèle obtenu. Les valeurs sont-elles cohérentes ? (indices : pour passer d'un objet pandas (DataFrame ou Series) à un array numpy, utilisez la propriété `values`)\n",
    "2. Tracez la droite obtenue sur le graphe précédent."
   ]
  },
  {
   "cell_type": "code",
   "execution_count": null,
   "metadata": {},
   "outputs": [],
   "source": [
    "from sklearn.linear_model import LinearRegression"
   ]
  },
  {
   "cell_type": "code",
   "execution_count": null,
   "metadata": {},
   "outputs": [],
   "source": [
    "egtm_decreasing.index.values, egtm_decreasing.values"
   ]
  },
  {
   "cell_type": "code",
   "execution_count": null,
   "metadata": {},
   "outputs": [],
   "source": [
    "lr = LinearRegression(n_jobs=-1)\n",
    "model = lr.fit(egtm_decreasing.index.values.reshape(-1,1), egtm_decreasing.values)"
   ]
  },
  {
   "cell_type": "code",
   "execution_count": null,
   "metadata": {},
   "outputs": [],
   "source": [
    "model.intercept_, model.coef_"
   ]
  },
  {
   "cell_type": "code",
   "execution_count": null,
   "metadata": {},
   "outputs": [],
   "source": [
    "plt.figure(figsize=(10,8))\n",
    "plt.plot(egt.index, egt, 'rx')\n",
    "plt.plot(egtm.index, egtm, '-', c='purple')\n",
    "plt.plot(egtm_decreasing.index, egtm_decreasing, 'go')\n",
    "plt.plot([0, egt.index[-1]], [model.intercept_, model.predict(np.array(egt.index[-1]).reshape(-1, 1))], 'g-')\n",
    "plt.legend(['Marge EGT', 'Marge EGT (médiane sur 15 cycles)', 'Points conservés', 'Modèle'])\n",
    "plt.title('Régression linéaire de la marge EGT lissée');"
   ]
  },
  {
   "cell_type": "markdown",
   "metadata": {},
   "source": [
    "### 3. Écriture d'une fonction de calcul de la pente EGT pour tous les moteurs\n",
    "\n",
    "Tout d'abord, bravo si vous êtes arrivés jusque là ! Toutes les opérations que l'on a effectuées ont permis d'estimer la pente de la marge EGT du moteur 179 de l'avion 190 de type 10, et donc son usure. Maintenant, on souhaite répéter ce processus sur tous les moteurs ! Pour cela, il faudra créer une fonction Python générique, prenant en entrée l'ensemble du jeu de données ACARS et produisant en sortie l'ensemble des pentes/intercept des modèles de régression linéaire appris pour chaque moteur.\n",
    "\n",
    "L'un des intérêts est de pouvoir prédire l'usure des moteurs, après un nombre de cycles donné.\n",
    "\n",
    "Voici le squelette de la fonction à écrire (en ré-utilisant et adaptant tout les morceaux de code précédents) :\n",
    "\n",
    "```python\n",
    "def regress_egt_margin(df_acars):\n",
    "    ...\n",
    "    return df_regress_models # Contient les pentes et intercept pour tous les moteurs\n",
    "```"
   ]
  },
  {
   "cell_type": "code",
   "execution_count": null,
   "metadata": {},
   "outputs": [],
   "source": [
    "def regress_egt_margin(df_acars):\n",
    "    # Supression des valeurs manquantes\n",
    "    acars_clean = df_acars[~df_acars['egthdm'].isna() & ~df_acars['cycles'].isna()]\n",
    "    # Sélection des variables \n",
    "    acars_final = acars_clean[['engine_type', 'aircraft_number', 'engine_number', 'cycles', 'egthdm']]\n",
    "    # Conversion des colonnes en entiers (int)\n",
    "    for col in ['engine_type', 'aircraft_number', 'engine_number', 'cycles']:\n",
    "        acars_final[col] = acars_final[col].apply(int)\n",
    "    \n",
    "    # Fonction à appliquer sur l'ensemble des vols de chaque moteur\n",
    "    def process_engine(engine):\n",
    "        # Récupération des identifiants du groupe de vols\n",
    "        engine_type, aircraft_number, engine_number = engine.iloc[0]['engine_type'], engine.iloc[0]['aircraft_number'], engine.iloc[0]['engine_number']\n",
    "        \"\"\"\n",
    "        print('Engine type:', engine_type)\n",
    "        print('Aircraft number:', aircraft_number)\n",
    "        print('Engine number:', engine_number)\n",
    "        print(engine.shape)\n",
    "        \"\"\"\n",
    "        # Préparation de la marge EGT\n",
    "        egt = engine.sort_values('cycles')\\\n",
    "                    .groupby('cycles')['egthdm'].max()\n",
    "\n",
    "        egt = egt.reindex(pd.RangeIndex(0, egt.index.max()+1), axis='index')\n",
    "                \n",
    "        # Calcul de la médiane glissante\n",
    "        egtm = egt.rolling(window=15, min_periods=3).median().dropna()\n",
    "        #\n",
    "        egtm_decreasing = egtm.rolling(window=egtm.size, min_periods=1).min().drop_duplicates()\n",
    "        \n",
    "        # Si la résultat est vide (pas assez de vols), on renvoie des NaNs\n",
    "        if not egtm.shape[0] > 0:\n",
    "            return pd.DataFrame({'engine_type': engine_type, 'aircraft_number': aircraft_number, 'engine_number': engine_number, \n",
    "                                 'intercept': np.nan, 'coef': np.nan}, index=[engine_number])\n",
    "        # Sinon, on effectue la régression linéaire\n",
    "        else:\n",
    "            \n",
    "            lr = LinearRegression()\n",
    "            model = lr.fit(egtm_decreasing.index.values.reshape(-1,1), egtm_decreasing.values)\n",
    "\n",
    "            return pd.DataFrame({'engine_type': engine_type, 'aircraft_number': aircraft_number, 'engine_number': engine_number, \n",
    "                                 'intercept': model.intercept_, 'coef': model.coef_[0]}, index=[engine_number])\n",
    "                             \n",
    "    return acars_final.groupby(['engine_type', 'aircraft_number', 'engine_number']).apply(process_engine)[['intercept', 'coef']]"
   ]
  },
  {
   "cell_type": "code",
   "execution_count": null,
   "metadata": {},
   "outputs": [],
   "source": [
    "results = regress_egt_margin(acars).dropna()"
   ]
  },
  {
   "cell_type": "code",
   "execution_count": null,
   "metadata": {},
   "outputs": [],
   "source": [
    "results.head()"
   ]
  },
  {
   "cell_type": "code",
   "execution_count": null,
   "metadata": {},
   "outputs": [],
   "source": [
    "results.dtypes"
   ]
  },
  {
   "cell_type": "markdown",
   "metadata": {},
   "source": [
    "### 4. Comparaison de l'usure des 3 types de moteurs"
   ]
  },
  {
   "cell_type": "markdown",
   "metadata": {},
   "source": [
    "#### 4.1. Prédiction de la marge EGT au 150ème par type de moteur\n",
    "\n",
    "1. Pour chaque moteur, utilisez son modèle de régression pour prédire la valeur de la marge EGT après 150 cycles d'utilisation (indice : méthode `apply`).\n",
    "2. Représentez ces valeurs par type moteur sur un box plot. Décrivez le résultat obtenu.\n",
    "3. Calculez la moyenne de la marge au 150ème cycle par type de moteur. Quel type de moteur a la plus grande marge moyenne après 150 cycles ?"
   ]
  },
  {
   "cell_type": "code",
   "execution_count": null,
   "metadata": {},
   "outputs": [],
   "source": [
    "results['prediction'] = results.apply(lambda x: x['intercept'] + 150*x['coef'], axis=1)"
   ]
  },
  {
   "cell_type": "code",
   "execution_count": null,
   "metadata": {},
   "outputs": [],
   "source": [
    "results.head()"
   ]
  },
  {
   "cell_type": "code",
   "execution_count": null,
   "metadata": {},
   "outputs": [],
   "source": [
    "plt.figure(figsize=(15,10))\n",
    "plt.boxplot(results.groupby('engine_type')['prediction'].apply(list));"
   ]
  },
  {
   "cell_type": "markdown",
   "metadata": {},
   "source": [
    "#### 4.3. Vitesse de décroissance de la marge EGT par type de moteur\n",
    "\n",
    "La pente de la marge EGT correspond à sa vitesse de décroissance par cycle.\n",
    "\n",
    "1. Quelle est son unité ?\n",
    "2. Représentez ces valeurs par type de moteur sur un boxplot. Décrivez le résultat obtenu.\n",
    "3. Calculez moyenne de la pente par type de moteur. Quel type de moteur a la plus faible vitesse de décroissance et donc la plus faible vitesse d'usure ?"
   ]
  },
  {
   "cell_type": "code",
   "execution_count": null,
   "metadata": {},
   "outputs": [],
   "source": [
    "plt.figure(figsize=(15,10))\n",
    "plt.boxplot(results.groupby('engine_type')['coef'].apply(list));"
   ]
  }
 ],
 "metadata": {
  "kernelspec": {
   "display_name": "Python 3 (ipykernel)",
   "language": "python",
   "name": "python3"
  },
  "language_info": {
   "codemirror_mode": {
    "name": "ipython",
    "version": 3
   },
   "file_extension": ".py",
   "mimetype": "text/x-python",
   "name": "python",
   "nbconvert_exporter": "python",
   "pygments_lexer": "ipython3",
   "version": "3.9.8"
  }
 },
 "nbformat": 4,
 "nbformat_minor": 4
}
